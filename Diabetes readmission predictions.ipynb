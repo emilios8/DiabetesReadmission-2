{
 "cells": [
  {
   "cell_type": "code",
   "execution_count": 1,
   "metadata": {},
   "outputs": [],
   "source": [
    "import pandas as pd\n",
    "import numpy as np\n",
    "import time\n",
    "\n",
    "from xgboost import XGBClassifier\n",
    "from sklearn.model_selection import KFold\n",
    "from ml_metrics import rmsle\n",
    "\n",
    "# suppres some notifications\n",
    "pd.options.mode.chained_assignment = None "
   ]
  },
  {
   "cell_type": "code",
   "execution_count": 2,
   "metadata": {},
   "outputs": [],
   "source": [
    "train = pd.read_hdf('../input/diabetic_train.h5')\n",
    "test = pd.read_hdf('../input/diabetic_test.h5')\n",
    "test['readmitted'] = -1\n",
    "\n",
    "df = pd.concat([train, test])"
   ]
  },
  {
   "cell_type": "markdown",
   "metadata": {},
   "source": [
    "# Feature Engineering"
   ]
  },
  {
   "cell_type": "code",
   "execution_count": 3,
   "metadata": {},
   "outputs": [],
   "source": [
    "def present_with_higher_id(x):\n",
    "    if x['patient_nbr'] in global_patients_frequent:\n",
    "        # is frequent\n",
    "        max_id = df[ df['patient_nbr'] == x['patient_nbr'] ]['id'].max()\n",
    "        if max_id > x['id']:\n",
    "            return 1\n",
    "        else:\n",
    "            return 0\n",
    "    \n",
    "    return 0\n",
    "\n",
    "drug_keys_important = [ 'metformin' , 'repaglinide', 'nateglinide', 'glimepiride',\n",
    "                        'glipizide', 'glyburide', 'pioglitazone', 'rosiglitazone', 'insulin']\n",
    "top_specialities = ['notSet', 'InternalMedicine', 'Emergency/Trauma',\n",
    "                    'Family/GeneralPractice', 'Cardiology', 'Surgery-General']\n",
    "\n",
    "# IDs of the patients that exists more then once in the train set\n",
    "train_patients_frequent = train['patient_nbr'].value_counts()\n",
    "train_patients_frequent = train_patients_frequent[ train_patients_frequent > 1 ]\n",
    "\n",
    "# IDs of the patients that exists more then once in the test set\n",
    "test_patients_frequent = test['patient_nbr'].value_counts()\n",
    "test_patients_frequent = test_patients_frequent[ test_patients_frequent > 1 ]\n",
    "\n",
    "# IDs of the patients that exists more then once in the whole dataset\n",
    "global_patients_frequent = df['patient_nbr'].value_counts()\n",
    "global_patients_frequent = global_patients_frequent[ global_patients_frequent > 1 ]\n",
    "\n",
    "# dataframe of the frequent IDs\n",
    "gpdf = global_patients_frequent.to_frame()\n",
    "\n",
    "# IDs of the patients that are frequent in the train or test sets (combined)\n",
    "full_frequent = (train_patients_frequent + test_patients_frequent)\n",
    "\n",
    "#############################################\n",
    "\n",
    "df['race'] = df['race'].map(lambda x: 'notSet' if x == '?' else x)\n",
    "df['race_cat'], labels = pd.factorize(df['race'])\n",
    "\n",
    "df['gender_cat'] = df['gender'].map(lambda x: 1 if x == 'Male' else 0)\n",
    "\n",
    "df['age'] = pd.to_numeric(df['age'].map(lambda x: x.split('-')[1].split(')')[0]))\n",
    "\n",
    "df['weight'] = pd.to_numeric(df['weight'].map(lambda x: 0 if x == '?' else x.split('-')[1].split(')')[0]))\n",
    "\n",
    "df['payer_code_cat'], labels = pd.factorize(df['payer_code']) \n",
    "\n",
    "df['readmission_not_possible'] = df['discharge_disposition_id'].map(lambda x: 1 if x == 11 else 0)\n",
    "\n",
    "df['medical_specialty'] = df['medical_specialty'].map(lambda x: 'notSet' if x == '?' else x)\n",
    "df['med_top'] = df['medical_specialty'].copy()\n",
    "df.loc[ ~df['med_top'].isin(top_specialities), 'med_top' ] = 'Other'\n",
    "df_cat = pd.get_dummies(df[ ['med_top'] ], drop_first = True)\n",
    "df = pd.concat([df, df_cat], axis = 1)\n",
    "\n",
    "df['medical_specialty_cat'], labels = pd.factorize(df['medical_specialty']) \n",
    "\n",
    "df['diag_1_cat'], labels = pd.factorize(df['diag_1']) \n",
    "df['diag_2_cat'], labels = pd.factorize(df['diag_2']) \n",
    "df['diag_3_cat'], labels = pd.factorize(df['diag_3']) \n",
    "\n",
    "df['max_glu_serum_cat'], labels = pd.factorize(df['max_glu_serum']) \n",
    "df['A1Cresult_cat'], labels = pd.factorize(df['A1Cresult']) \n",
    "\n",
    "for col in drug_keys_important:\n",
    "    colname = str(col) + 'temp'\n",
    "    df[colname] = df[col].apply(lambda x: 0 if (x == 0 or x == 1) else 1)\n",
    "df['important_drugs_change'] = 0\n",
    "for col in drug_keys_important:\n",
    "    colname = str(col) + 'temp'\n",
    "    df['important_drugs_change'] = df['important_drugs_change'] + df[colname]\n",
    "    del df[colname]\n",
    "    \n",
    "df['important_drugs_count'] = 0\n",
    "for col in drug_keys_important:\n",
    "    df['important_drugs_count'] = df['important_drugs_count'] + df[col].map(lambda x: 0 if x == 0 else 1)\n",
    "\n",
    "df['change'] = pd.to_numeric(df['change'].map(lambda x: 1 if x else 0))\n",
    "\n",
    "df['diabetesMed'] = pd.to_numeric(df['diabetesMed'].map(lambda x: 1 if x else 0))\n",
    "\n",
    "df['sum_visits'] = df['number_outpatient'] + df['number_emergency'] + df['number_inpatient'] \n",
    "\n",
    "df['is_frequent'] = df['patient_nbr'].map(lambda x: 1 if x in (full_frequent) else 0)\n",
    "\n",
    "df['is_global_frequent'] = df['patient_nbr'].map(lambda x: 1 if x in (global_patients_frequent) else 0)\n",
    "\n",
    "df['global_frequency'] = df['patient_nbr'].map(lambda x: gpdf.loc[x].at['patient_nbr'] if x in (global_patients_frequent) else 1)\n",
    "\n",
    "df['present_with_higher_id'] = df.apply(present_with_higher_id, axis=1)\n",
    "\n",
    "#\n",
    "# cleanup\n",
    "#\n",
    "columns_to_remove = [ 'race', 'gender', 'payer_code', 'med_top',\n",
    "                      'medical_specialty', 'diag_1', 'diag_2', 'diag_3', 'max_glu_serum', 'A1Cresult',\n",
    "                      'payer_code_cat', 'nateglinide', 'glimepiride', 'pioglitazone', 'rosiglitazone',\n",
    "                      'chlorpropamide', 'acetohexamide', 'tolbutamide', 'acarbose', 'miglitol', 'troglitazone',\n",
    "                      'tolazamide', 'examide', 'citoglipton', 'glyburide-metformin', 'glipizide-metformin', \n",
    "                      'glimepiride-pioglitazone', 'metformin-rosiglitazone', 'metformin-pioglitazone',\n",
    "                      'metformin' , 'repaglinide', 'nateglinide', 'glimepiride',\n",
    "                        'glipizide', 'glyburide', 'pioglitazone', 'rosiglitazone',\n",
    "                    ]\n",
    "for col_to_remove in columns_to_remove:\n",
    "    if col_to_remove in df: del df[col_to_remove]"
   ]
  },
  {
   "cell_type": "code",
   "execution_count": 4,
   "metadata": {},
   "outputs": [
    {
     "data": {
      "text/plain": [
       "((33051, 42), (33170, 42))"
      ]
     },
     "execution_count": 4,
     "metadata": {},
     "output_type": "execute_result"
    }
   ],
   "source": [
    "train = df[ df.readmitted != -1 ]\n",
    "test = df[ df.readmitted == -1 ]\n",
    "train.shape, test.shape"
   ]
  },
  {
   "cell_type": "markdown",
   "metadata": {},
   "source": [
    "# Prepare features"
   ]
  },
  {
   "cell_type": "code",
   "execution_count": 5,
   "metadata": {},
   "outputs": [
    {
     "name": "stdout",
     "output_type": "stream",
     "text": [
      "Selected features:  ['age', 'weight', 'admission_type_id', 'discharge_disposition_id', 'admission_source_id', 'time_in_hospital', 'num_lab_procedures', 'num_procedures', 'number_outpatient', 'number_emergency', 'number_inpatient', 'number_diagnoses', 'insulin', 'change', 'diabetesMed', 'readmission_not_possible', 'med_top_Emergency/Trauma', 'med_top_Family/GeneralPractice', 'med_top_InternalMedicine', 'med_top_Other', 'med_top_Surgery-General', 'med_top_notSet', 'important_drugs_change', 'important_drugs_count', 'sum_visits', 'is_frequent', 'is_global_frequent', 'global_frequency', 'present_with_higher_id', 'num_medications', 'race_cat', 'gender_cat', 'medical_specialty_cat', 'diag_1_cat', 'diag_2_cat', 'diag_3_cat', 'max_glu_serum_cat', 'A1Cresult_cat']\n"
     ]
    }
   ],
   "source": [
    "black_list = ['readmitted', 'id', 'encounter_id', 'patient_nbr']\n",
    "\n",
    "bool_features = train.select_dtypes(include=[np.bool]).columns.values.tolist()\n",
    "\n",
    "cat_feats = [feat for feat in train.columns if 'cat' in feat]\n",
    "\n",
    "numeric_features = train.select_dtypes(include=[np.float64, np.int64, np.int16, np.int8, np.uint8]).columns.values\n",
    "numeric_features = [feat for feat in numeric_features if feat not in (black_list + cat_feats) ]\n",
    "\n",
    "feats = bool_features + numeric_features + cat_feats \n",
    "\n",
    "feats = [feat for feat in feats if feat not in (black_list)]\n",
    "\n",
    "X = train[ feats ].values\n",
    "y = train[ 'readmitted' ].values\n",
    "\n",
    "print(\"Selected features: \", feats)"
   ]
  },
  {
   "cell_type": "markdown",
   "metadata": {},
   "source": [
    "### Cross validation"
   ]
  },
  {
   "cell_type": "code",
   "execution_count": 6,
   "metadata": {},
   "outputs": [
    {
     "name": "stdout",
     "output_type": "stream",
     "text": [
      "fold:  1\n",
      "x1 RMSLE:  1.2644571790473973\n",
      "fold:  2\n",
      "x1 RMSLE:  1.2871874082916193\n",
      "fold:  3\n",
      "x1 RMSLE:  1.2287877939120235\n",
      "x1_RMSLE 1.26014412708368 0.024035814289689532\n"
     ]
    }
   ],
   "source": [
    "cv = KFold(n_splits=3, shuffle=True, random_state=2018)\n",
    "\n",
    "xgb_params = {\n",
    "    'n_jobs': 8, \n",
    "    'max_depth': 4, \n",
    "    'n_estimators': 600, \n",
    "    'learning_rate': 0.035,\n",
    "    'random_state': 2019,\n",
    "}\n",
    "\n",
    "scores = {\n",
    "    'x1_RMSLE' : []\n",
    "}\n",
    "\n",
    "def perform_scoring(m, y_true, y_pred):\n",
    "    score = rmsle(y[test_idx], y_pred)\n",
    "    print(m + \" RMSLE: \", score)\n",
    "    scores[m + '_RMSLE'].append(score)\n",
    "    \n",
    "fold = 0\n",
    "for train_idx, test_idx in cv.split(X):\n",
    "    fold += 1\n",
    "    print(\"fold: \", fold)\n",
    "\n",
    "    # first model\n",
    "    model = XGBClassifier(**xgb_params)\n",
    "    model.fit(X[train_idx], y[train_idx])\n",
    "    y_pred = model.predict(X[test_idx])\n",
    "    perform_scoring('x1', y[test_idx], y_pred)\n",
    "\n",
    "for s in scores:\n",
    "    print(s, np.mean(scores[s]), np.std(scores[s]))"
   ]
  },
  {
   "cell_type": "markdown",
   "metadata": {},
   "source": [
    "#### The result of the cross validation should be: x1_RMSLE 1.26014412708368 0.024035814289689532"
   ]
  },
  {
   "cell_type": "markdown",
   "metadata": {},
   "source": [
    "# Training of the final model"
   ]
  },
  {
   "cell_type": "code",
   "execution_count": 7,
   "metadata": {},
   "outputs": [
    {
     "name": "stdout",
     "output_type": "stream",
     "text": [
      "CPU times: user 43.9 s, sys: 192 ms, total: 44.1 s\n",
      "Wall time: 5.53 s\n"
     ]
    }
   ],
   "source": [
    "#\n",
    "# take the full dataset\n",
    "#\n",
    "\n",
    "XX = train[ feats ].values\n",
    "yy = train[ 'readmitted' ].values\n",
    "Xt = test[feats].values\n",
    "\n",
    "#\n",
    "# prepare the final model\n",
    "#\n",
    "\n",
    "model = XGBClassifier(**xgb_params)\n",
    "%time model.fit(XX, yy)\n",
    "y_pred = model.predict(Xt)"
   ]
  },
  {
   "cell_type": "code",
   "execution_count": 8,
   "metadata": {},
   "outputs": [
    {
     "data": {
      "text/plain": [
       "0      29350\n",
       "100     3820\n",
       "Name: readmitted, dtype: int64"
      ]
     },
     "execution_count": 8,
     "metadata": {},
     "output_type": "execute_result"
    }
   ],
   "source": [
    "test['readmitted'] = y_pred\n",
    "test['readmitted'].value_counts()"
   ]
  },
  {
   "cell_type": "code",
   "execution_count": 9,
   "metadata": {},
   "outputs": [],
   "source": [
    "# additional adjustment\n",
    "test['readmitted'] = test.apply(lambda x: 100 if x['present_with_higher_id'] == 1 else x['readmitted'], axis=1)\n",
    "test['readmitted'] = test.apply(lambda x: 0 if x['readmission_not_possible'] == 1 else x['readmitted'], axis=1)"
   ]
  },
  {
   "cell_type": "code",
   "execution_count": 10,
   "metadata": {},
   "outputs": [
    {
     "data": {
      "text/plain": [
       "0      29348\n",
       "100     3822\n",
       "Name: readmitted, dtype: int64"
      ]
     },
     "execution_count": 10,
     "metadata": {},
     "output_type": "execute_result"
    }
   ],
   "source": [
    "test['readmitted'].value_counts()"
   ]
  },
  {
   "cell_type": "markdown",
   "metadata": {},
   "source": [
    "# Save to the submission file"
   ]
  },
  {
   "cell_type": "code",
   "execution_count": 13,
   "metadata": {},
   "outputs": [],
   "source": [
    "test[ ['id', 'readmitted'] ].to_csv('../output/predictions.csv', index=False) "
   ]
  }
 ],
 "metadata": {
  "kernelspec": {
   "display_name": "Python 3",
   "language": "python",
   "name": "python3"
  },
  "language_info": {
   "codemirror_mode": {
    "name": "ipython",
    "version": 3
   },
   "file_extension": ".py",
   "mimetype": "text/x-python",
   "name": "python",
   "nbconvert_exporter": "python",
   "pygments_lexer": "ipython3",
   "version": "3.7.4"
  }
 },
 "nbformat": 4,
 "nbformat_minor": 2
}
